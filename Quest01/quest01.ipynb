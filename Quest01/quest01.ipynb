{
  "nbformat": 4,
  "nbformat_minor": 0,
  "metadata": {
    "colab": {
      "provenance": [],
      "authorship_tag": "ABX9TyMNeh3o7EsTpetvLqOdzBEt",
      "include_colab_link": true
    },
    "kernelspec": {
      "name": "python3",
      "display_name": "Python 3"
    },
    "language_info": {
      "name": "python"
    }
  },
  "cells": [
    {
      "cell_type": "markdown",
      "metadata": {
        "id": "view-in-github",
        "colab_type": "text"
      },
      "source": [
        "<a href=\"https://colab.research.google.com/github/jeonminkyu/AIFFEL_Online_Quest/blob/main/Quest01/quest01.ipynb\" target=\"_parent\"><img src=\"https://colab.research.google.com/assets/colab-badge.svg\" alt=\"Open In Colab\"/></a>"
      ]
    },
    {
      "cell_type": "code",
      "execution_count": 19,
      "metadata": {
        "colab": {
          "base_uri": "https://localhost:8080/"
        },
        "id": "oy43-ODt7YeS",
        "outputId": "9e57828a-0e1c-4c62-878f-5a0c05ac4725"
      },
      "outputs": [
        {
          "output_type": "stream",
          "name": "stdout",
          "text": [
            "입력된 단어는:dnduddn\n",
            "뒤집힌 단어는:nddudnd\n",
            "입력된 단어는 회문이 아닙니다.\n"
          ]
        }
      ],
      "source": [
        "a = input('입력된 단어는:')\n",
        "b = a[::-1]\n",
        "print('뒤집힌 단어는:'+b)\n",
        "def retur_n(x):\n",
        "    if a ==b: print(\"입력된 단어는 회문입니다.\")\n",
        "    else: print('입력된 단어는 회문이 아닙니다.')\n",
        "retur_n(a)\n",
        "\n"
      ]
    }
  ]
}