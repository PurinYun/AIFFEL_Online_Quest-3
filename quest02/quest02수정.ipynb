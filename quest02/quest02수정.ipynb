{
  "nbformat": 4,
  "nbformat_minor": 0,
  "metadata": {
    "colab": {
      "provenance": [],
      "authorship_tag": "ABX9TyNExAXFc8EqJFbX/LDorgxg",
      "include_colab_link": true
    },
    "kernelspec": {
      "name": "python3",
      "display_name": "Python 3"
    },
    "language_info": {
      "name": "python"
    }
  },
  "cells": [
    {
      "cell_type": "markdown",
      "metadata": {
        "id": "view-in-github",
        "colab_type": "text"
      },
      "source": [
        "<a href=\"https://colab.research.google.com/github/jeonminkyu/AIFFEL_Online_Quest/blob/main/quest02/quest02%EC%88%98%EC%A0%95.ipynb\" target=\"_parent\"><img src=\"https://colab.research.google.com/assets/colab-badge.svg\" alt=\"Open In Colab\"/></a>"
      ]
    },
    {
      "cell_type": "code",
      "source": [],
      "metadata": {
        "id": "Ov9xdFGSsfU8"
      },
      "execution_count": null,
      "outputs": []
    },
    {
      "cell_type": "code",
      "execution_count": 2,
      "metadata": {
        "colab": {
          "base_uri": "https://localhost:8080/"
        },
        "id": "P2BalVaKqciW",
        "outputId": "a47288f3-536d-4d0e-dfb8-9ac717adfda8"
      },
      "outputs": [
        {
          "output_type": "stream",
          "name": "stdout",
          "text": [
            "Using Comprehension:\n",
            "Nemo is swimming at 3m/s\n",
            "Dory is swimming at 5m/s\n",
            "Using Generator\n",
            "Nemo is swimming at 3m/s\n",
            "Dory is swimming at 5m/s\n"
          ]
        }
      ],
      "source": [
        "fish_list = [{\"이름\":\"Nemo\",\"speed\":3},{\"이름\":\"Dory\",\"speed\":5}]\n",
        "def show_fish_movement_comprehension(fish_list):\n",
        "  a = [x['이름'] for x in fish_list]#딕셔너리key값을 [key]를통해 불러올수있다.\n",
        "  b = [x['speed'] for x in fish_list]\n",
        "  for i, k in zip(a, b):#각자의 a,b리스트를 zip함수를  통해 i와k에 할당해줍니다.\n",
        "     print(f\"{i} is swimming at {k}m/s\")#문자열 포메팅을 사용해 할당해준i,k를 불러옵니다.\n",
        "print(\"Using Comprehension:\")\n",
        "show_fish_movement_comprehension(fish_list)\n",
        "def show_fish_movement_Generator(fish_list):\n",
        "   a = (x['이름'] for x in fish_list)#제너레이터 표현식을사용하여제너레이터를만들고 a,b에 바인딩해줍니다.\n",
        "   b = (x['speed'] for x in fish_list)\n",
        "   for i, k in zip(a, b):#각자의a,b제너레이터를 zip함수를 통해 i,k에할당합니다.for문사용\n",
        "     yield f\"{i} is swimming at {k}m/s\"#yield를통해 문자열 포메팅값을 리턴합니다.\n",
        "print(\"Using Generator\")\n",
        "for gen in show_fish_movement_Generator(fish_list):#for문을 사용하여 제너레이터 함수의 값을 호출합니다.\n",
        "# next( show_fish_movement_Generator(fish_list))#next()를 두번사용해서 출력도 가능함!!\n",
        "  print(gen)"
      ]
    }
  ]
}