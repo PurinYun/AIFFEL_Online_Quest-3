{
  "nbformat": 4,
  "nbformat_minor": 0,
  "metadata": {
    "colab": {
      "provenance": [],
      "authorship_tag": "ABX9TyNBq0urGPZrotKq95pT9uSz",
      "include_colab_link": true
    },
    "kernelspec": {
      "name": "python3",
      "display_name": "Python 3"
    },
    "language_info": {
      "name": "python"
    }
  },
  "cells": [
    {
      "cell_type": "markdown",
      "metadata": {
        "id": "view-in-github",
        "colab_type": "text"
      },
      "source": [
        "<a href=\"https://colab.research.google.com/github/jeonminkyu/AIFFEL_Online_Quest/blob/main/quest02/quest02.ipynb\" target=\"_parent\"><img src=\"https://colab.research.google.com/assets/colab-badge.svg\" alt=\"Open In Colab\"/></a>"
      ]
    },
    {
      "cell_type": "code",
      "source": [],
      "metadata": {
        "id": "Ov9xdFGSsfU8"
      },
      "execution_count": null,
      "outputs": []
    },
    {
      "cell_type": "code",
      "execution_count": 12,
      "metadata": {
        "colab": {
          "base_uri": "https://localhost:8080/"
        },
        "id": "P2BalVaKqciW",
        "outputId": "6f93578a-f31a-4d4c-e4b6-8873a368d5fc"
      },
      "outputs": [
        {
          "output_type": "stream",
          "name": "stdout",
          "text": [
            "Using Comprehension:\n",
            "Using Generator\n",
            "[({'이름': 'Nemo', 'speed': 3},), ({'이름': 'Dory', 'speed': 5},)] is swimming at 3m/s\n"
          ]
        }
      ],
      "source": [
        "fish_list = [{\"이름\":\"Nemo\",\"speed\":3},{\"이름\":\"Dory\",\"speed\":5}]\n",
        "print(\"Using Comprehension:\")\n",
        "# show_fish_movement_comprehension(fish_list)\n",
        "print(\"Using Generator\")\n",
        "# show_fish_movement_Generator(fish_list)\n",
        "\n",
        "a = [x for x in zip(fish_list)]\n",
        "def show_fish_movement_comprehension(a):\n",
        "  a = [x for x in zip(fish_list)]\n",
        "  print (a,\"is swimming at 3m/s\")\n",
        "show_fish_movement_comprehension(a)\n",
        "# show_fish_movement_comprehension(fish_list)\n",
        "# show_fish_movement_Generator = ()\n",
        "# def"
      ]
    }
  ]
}