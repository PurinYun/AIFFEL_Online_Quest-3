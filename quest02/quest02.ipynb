{
  "nbformat": 4,
  "nbformat_minor": 0,
  "metadata": {
    "colab": {
      "provenance": [],
      "authorship_tag": "ABX9TyPJg0W76hjoMcwYq9nO1nkx",
      "include_colab_link": true
    },
    "kernelspec": {
      "name": "python3",
      "display_name": "Python 3"
    },
    "language_info": {
      "name": "python"
    }
  },
  "cells": [
    {
      "cell_type": "markdown",
      "metadata": {
        "id": "view-in-github",
        "colab_type": "text"
      },
      "source": [
        "<a href=\"https://colab.research.google.com/github/jeonminkyu/AIFFEL_Online_Quest/blob/main/quest02/quest02.ipynb\" target=\"_parent\"><img src=\"https://colab.research.google.com/assets/colab-badge.svg\" alt=\"Open In Colab\"/></a>"
      ]
    },
    {
      "cell_type": "code",
      "source": [],
      "metadata": {
        "id": "Ov9xdFGSsfU8"
      },
      "execution_count": null,
      "outputs": []
    },
    {
      "cell_type": "code",
      "execution_count": 19,
      "metadata": {
        "colab": {
          "base_uri": "https://localhost:8080/"
        },
        "id": "P2BalVaKqciW",
        "outputId": "d168badc-1283-4d66-962b-0f596b69a214"
      },
      "outputs": [
        {
          "output_type": "stream",
          "name": "stdout",
          "text": [
            "Using Comprehension:\n",
            "Using Generator\n",
            "['Nemo', 'Dory']\n",
            "[3, 5]\n",
            "<generator object show_fish_movement_comprehension.<locals>.<genexpr> at 0x7da8360f7bc0>\n",
            "<generator object show_fish_movement_comprehension.<locals>.<genexpr> at 0x7da8360f7bc0>\n",
            "['Nemo', 'Dory'] is swimming at [3, 5] m/s\n"
          ]
        }
      ],
      "source": [
        "fish_list = [{\"이름\":\"Nemo\",\"speed\":3},{\"이름\":\"Dory\",\"speed\":5}]\n",
        "print(\"Using Comprehension:\")\n",
        "# show_fish_movement_comprehension(fish_list)\n",
        "print(\"Using Generator\")\n",
        "# show_fish_movement_Generator(fish_list)\n",
        "a = print(list(x[\"이름\"]for x in fish_list))\n",
        "b = print(list(x[\"speed\"]for x in fish_list))\n",
        "def show_fish_movement_comprehension(fish_list):\n",
        "  a = (list(x[\"이름\"]for x in fish_list))\n",
        "  print((x for x in a))\n",
        "  b = (list(x[\"speed\"]for x in fish_list))\n",
        "  print((x for x in b))\n",
        "  print(a,\"is swimming at\", b, \"m/s\")\n",
        "show_fish_movement_comprehension(fish_list)\n"
      ]
    }
  ]
}