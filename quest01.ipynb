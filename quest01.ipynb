{
  "nbformat": 4,
  "nbformat_minor": 0,
  "metadata": {
    "colab": {
      "provenance": [],
      "authorship_tag": "ABX9TyNpzIZJue1vTL4+Oir6qNLI",
      "include_colab_link": true
    },
    "kernelspec": {
      "name": "python3",
      "display_name": "Python 3"
    },
    "language_info": {
      "name": "python"
    }
  },
  "cells": [
    {
      "cell_type": "markdown",
      "metadata": {
        "id": "view-in-github",
        "colab_type": "text"
      },
      "source": [
        "<a href=\"https://colab.research.google.com/github/jeonminkyu/AIFFEL_Online_Quest/blob/main/quest01.ipynb\" target=\"_parent\"><img src=\"https://colab.research.google.com/assets/colab-badge.svg\" alt=\"Open In Colab\"/></a>"
      ]
    },
    {
      "cell_type": "code",
      "execution_count": 18,
      "metadata": {
        "colab": {
          "base_uri": "https://localhost:8080/"
        },
        "id": "oy43-ODt7YeS",
        "outputId": "37fe785b-36a8-4a03-c3e5-26dc6cf6de72"
      },
      "outputs": [
        {
          "output_type": "stream",
          "name": "stdout",
          "text": [
            "입력된 단어는전민규\n",
            "뒤집힌 단어는:규민전\n",
            "입력된 단어는 회문이 아닙니다.\n"
          ]
        }
      ],
      "source": [
        "a = input('입력된 단어는:')\n",
        "b = a[::-1]\n",
        "print('뒤집힌 단어는:'+b)\n",
        "def retur_n(a):\n",
        "    if a ==b: print(\"입력된 단어는 회문입니다.\")\n",
        "    else: print('입력된 단어는 회문이 아닙니다.')\n",
        "retur_n(a)\n",
        "\n"
      ]
    }
  ]
}